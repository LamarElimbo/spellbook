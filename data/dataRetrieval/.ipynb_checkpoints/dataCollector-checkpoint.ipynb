{
 "cells": [
  {
   "cell_type": "code",
   "execution_count": null,
   "metadata": {
    "collapsed": true
   },
   "outputs": [],
   "source": [
    "import os, time\n",
    "from bs4 import BeautifulSoup as soup\n",
    "import pandas as pd\n",
    "import urllib\n",
    "from urllib import request\n",
    "\n",
    "def soupTheLink(weblink):\n",
    "    html = request.urlopen(weblink).read().decode('utf-8')\n",
    "    return soup(html, 'lxml')  "
   ]
  },
  {
   "cell_type": "code",
   "execution_count": 5,
   "metadata": {
    "collapsed": true
   },
   "outputs": [
    {
     "ename": "AttributeError",
     "evalue": "'NoneType' object has no attribute 'find_all'",
     "output_type": "error",
     "traceback": [
      "\u001b[0;31m---------------------------------------------------------------------------\u001b[0m",
      "\u001b[0;31mAttributeError\u001b[0m                            Traceback (most recent call last)",
      "\u001b[0;32m<ipython-input-5-c8ea95b8b4ce>\u001b[0m in \u001b[0;36m<module>\u001b[0;34m()\u001b[0m\n\u001b[1;32m     29\u001b[0m     \u001b[0;32mreturn\u001b[0m \u001b[0mspellTitle\u001b[0m\u001b[0;34m,\u001b[0m \u001b[0mspellText\u001b[0m\u001b[0;34m\u001b[0m\u001b[0m\n\u001b[1;32m     30\u001b[0m \u001b[0;34m\u001b[0m\u001b[0m\n\u001b[0;32m---> 31\u001b[0;31m \u001b[0mspellTitle\u001b[0m\u001b[0;34m,\u001b[0m \u001b[0mspellText\u001b[0m \u001b[0;34m=\u001b[0m \u001b[0mcollectPhotos\u001b[0m\u001b[0;34m(\u001b[0m\u001b[0murl\u001b[0m\u001b[0;34m)\u001b[0m\u001b[0;34m\u001b[0m\u001b[0m\n\u001b[0m\u001b[1;32m     32\u001b[0m \u001b[0mprint\u001b[0m\u001b[0;34m(\u001b[0m\u001b[0;34m'Titles: '\u001b[0m\u001b[0;34m,\u001b[0m \u001b[0mspellTitle\u001b[0m\u001b[0;34m)\u001b[0m\u001b[0;34m\u001b[0m\u001b[0m\n\u001b[1;32m     33\u001b[0m \u001b[0mprint\u001b[0m\u001b[0;34m(\u001b[0m\u001b[0;34m'Spells: '\u001b[0m\u001b[0;34m,\u001b[0m \u001b[0mspellText\u001b[0m\u001b[0;34m)\u001b[0m\u001b[0;34m\u001b[0m\u001b[0m\n",
      "\u001b[0;32m<ipython-input-5-c8ea95b8b4ce>\u001b[0m in \u001b[0;36mcollectPhotos\u001b[0;34m(page)\u001b[0m\n\u001b[1;32m     18\u001b[0m     \u001b[0mbody\u001b[0m \u001b[0;34m=\u001b[0m \u001b[0msouped\u001b[0m\u001b[0;34m.\u001b[0m\u001b[0mfind\u001b[0m\u001b[0;34m(\u001b[0m\u001b[0mclass_\u001b[0m\u001b[0;34m=\u001b[0m\u001b[0;34m'mediawiki'\u001b[0m\u001b[0;34m)\u001b[0m\u001b[0;34m\u001b[0m\u001b[0m\n\u001b[1;32m     19\u001b[0m \u001b[0;34m\u001b[0m\u001b[0m\n\u001b[0;32m---> 20\u001b[0;31m     \u001b[0;32mfor\u001b[0m \u001b[0mspell\u001b[0m \u001b[0;32min\u001b[0m \u001b[0mbody\u001b[0m\u001b[0;34m.\u001b[0m\u001b[0mfind_all\u001b[0m\u001b[0;34m(\u001b[0m\u001b[0;34m'h3'\u001b[0m\u001b[0;34m)\u001b[0m\u001b[0;34m:\u001b[0m\u001b[0;34m\u001b[0m\u001b[0m\n\u001b[0m\u001b[1;32m     21\u001b[0m \u001b[0;34m\u001b[0m\u001b[0m\n\u001b[1;32m     22\u001b[0m         \u001b[0mtitle\u001b[0m \u001b[0;34m=\u001b[0m \u001b[0mspell\u001b[0m\u001b[0;34m.\u001b[0m\u001b[0mfind\u001b[0m\u001b[0;34m(\u001b[0m\u001b[0mclass_\u001b[0m \u001b[0;34m=\u001b[0m \u001b[0;34m'mw-headline'\u001b[0m\u001b[0;34m)\u001b[0m\u001b[0;34m.\u001b[0m\u001b[0mget_text\u001b[0m\u001b[0;34m(\u001b[0m\u001b[0;34m)\u001b[0m\u001b[0;34m\u001b[0m\u001b[0m\n",
      "\u001b[0;31mAttributeError\u001b[0m: 'NoneType' object has no attribute 'find_all'"
     ]
    }
   ],
   "source": [
    "#Scrape Charmed\n",
    "\n",
    "url = 'http://charmed.wikia.com/wiki/List_of_Spells'\n",
    "    \n",
    "def collect(page):\n",
    "    spellTitle=[]\n",
    "    spellText=[]\n",
    "\n",
    "    souped = soupTheLink(page)\n",
    "    body = souped.find(class_='mediawiki')\n",
    "\n",
    "    for spell in body.find_all('h3'):\n",
    "        \n",
    "        title = spell.find(class_ = 'mw-headline').get_text()\n",
    "        spellTitle.append(title)\n",
    "        \n",
    "        text = spell.find_next_sibling('dl').get_text()\n",
    "        print(text.rstrip(), '|')\n",
    "        spellText.append(text)\n",
    "        \n",
    "    return spellTitle, spellText\n",
    "\n",
    "spellTitle, spellText = collect(url)\n",
    "print('Titles: ', spellTitle)\n",
    "print('Spells: ', spellText)\n",
    "\n",
    "DATABASE = {'Spells':spellText, 'Descriptions':spellTitle}\n",
    "pd.DataFrame(DATABASE).to_csv('spells.csv', header=True, index=False)"
   ]
  },
  {
   "cell_type": "code",
   "execution_count": 9,
   "metadata": {
    "collapsed": false
   },
   "outputs": [],
   "source": [
    "#Sabrina the Teenage Witch\n",
    "\n",
    "spellBundle = \"\"\"\n",
    "\"The popular girl is not a fruit\"|\n",
    "Silence Spell: \"Affix the taste organ of a humped ruminant adjacent to one's dentation\"|\n",
    "\"Abracadabra!\"|\n",
    "\"Sporting Events - to win, lose or tie\" - pump arm three times and point.|\n",
    "To make Rollerblahs - old shoebox and a gift from a quick footed animal|\n",
    "Passion Spell - say the thing a witch desires three times e.g. Boy Big A Be.|\n",
    "\"Randy Travis, Randy Travis, Randy Travis\"|\n",
    "\"Eddie Cibrian, Eddie Cibrian, Eddie Cibrian\"|\n",
    "Full Body Duplication \"Double Double Toil and Trouble\"|\n",
    "Reanimation 'gift certificate to spend a half an hour with the deceased of your choice'|\n",
    "Three Witches \"Just Desserts\" - 'The spell that guarantees he'll get what's coming to him' The spell: \"Adder's fork and blind worm's sting. Lizard's leg and howlet's wing. For a charm, a powerful trouble, fire burn and cauldron bubble. Fair is foul and foul is fair. Hover through fog and filthy air\"|\n",
    "'Finding Spell' - \"Finder of lost things help me find my enter lost item here\"|\n",
    "\"Trains are big and they are leaded, send them away from where they're headed\"|\n",
    "\"Love is beautiful, love is alive. Send me cupid for five ninety five\"|\n",
    "\"Love is beautiful, it's never corrupt. Send me the six dollar cupid unless the rates have gone up\"|\n",
    "\"Be a dummy, be a fool. Switch off your brain so please don't drool\"|\n",
    "\"Mortal boys we have aplenta, for which fellas we need a Yenta\"|\n",
    "\"You haven't been nice, you haven't been cordial, so for the next five minutes, you're gonna be mortal\"|\n",
    "\"Rock and rubble, thunder and wind. Release this poor schlub from his bowling pin\"|\n",
    "Boy Brew - 'snips, snails, synthetic puppy dog tails and ear of newt'|\n",
    "Time Ball|\n",
    "\"Stuff is messy, this place is a zoo. Make things that need it, brand spanking new\"|\n",
    "\"I made things new and that was bad. Undo it all so they won't be mad\"|\n",
    "\"Maybe this Friday you'll start the game and Uncle Lloyd will leave in shame\"|\n",
    "\"No spells at school unless I gotta. And I do so make it hotter!\"|\n",
    "\"Here's a quiz I know I'll ace, put everything back in its rightful place\"|\n",
    "\"The team doesn't need a Harvey that's tame, so make him worthy of the Hall of Fame\"|\n",
    "\"Everyone inside is beginning to bug, so help them find their stupid lost rug\"|\n",
    "\"Block that snow from pouring it, stick something in that spewing spout\"|\n",
    "\"Bob Bob Bob Bob!\"|\n",
    "Aging Potion - 'For a teenager's outlook on life, take three candies. Caution: may result in the ability to eat an entire box of cereal'.|\n",
    "Anti-youth potion - '1 part prune juice, 1 part Miami Beach Tap Water, pinch of Buddy Ebsen salt'.|\n",
    "Distance Spell - \"To keep us out of each other's faces, keep Libby away at least five paces\".|\n",
    "\"To protect the heart from conflict and clashes, what we need are rose coloured glasses\".|\n",
    "Magical Jumping Beans - 'potassium, benzoate, a shot of B12 and fruit extract'.|\n",
    "Fear Removal - 'to achieve fear removal, drink a glass of water while opened to this page'.|\n",
    "\"Quizmaster, Quizmaster helping others is great. Now get your butt in here before it's too late.\"|\n",
    "\"To get Harvey's mind off this romantic rift, send his mom the ideal gift\".|\n",
    "\"Abracadoobie, abracadoo, help us uncover Sabrina's clue\".|\n",
    "\"Because our feelings for Sabrina really matter, Here's a spell to prevent the afore mentioned Sabrina from conjuring pancake batter\".|\n",
    "Car: essence of tyre burn, myrrh and STP 'the racer's edge'|\n",
    "Diamond Dave's sleeping potion: feather of foul - preferably ostrich or emu, 2oz chlorophyll, tad of faux animal fur, coarse body hair, alcohol, comb cleaner|\n",
    "Just Desserts: 'with one little bite of this dessert, you'll get the recognition your good work deserves'|\n",
    "\"Cousin Susie who's so cutesy, please come and help Harvey out of this hair doozy\"|\n",
    "\"Their lives are so dry, here's what we'll do. Take whatever they wish and make it come true!\"|\n",
    "\"Wishbone spells, see Sanders, Colonel p387\"|\n",
    "Prognosis Hypnosis - shows a person what will happen if they keep doing what they're doing|\n",
    "Real Life Story \"We need some dirt and we need it fast, so give us the scoop on Willard Kraft|\n",
    "\"Mr Kraft with a past so juicy, return to us his ex-wife Lucy\".|\n",
    "\"Two of two IDs do I wield, Take them back so my magic will be real\".|\n",
    "\"Hair of a dog, a laugh that's hearty, take us to Salem's favourite party\".|\n",
    "\"Aunt Dorma pick up this call, reverse the charges on this crystal ball\".|\n",
    "\"To keep my Aunts from spending an eternity in bed, make them act out what's currently going on in their heads\".|\n",
    "'Poppy clean up. Press here for fast efficient friendly service'|\n",
    "\"To wake my Aunts from terrible rot, send snow to my house and make it a lot\".|\n",
    "'Hand in the Cookie Jar' spell \"Whoever touches this stone from a star, encase their hand in a cookie jar\".|\n",
    "\"Knowing what happens would be heaven, take me to page 211\".|\n",
    "\"To learn the error of her ways, no shortcuts for one days\".|\n",
    "\"This teacher's blue and needs a lift, for all her trouble here's a gift\".|\n",
    "'Wedding Indicator Cake' \"The proposal hints we will review, does this schlob want to marry you?\".|\n",
    "'Mom's the word spell' \"So nothing unkind will be heard, just remember mom's the word!\".|\n",
    "'If you can't say anything nice spell' - to enact the spell press here.|\n",
    "'Doctor Dolittle spell'|\n",
    "\"Until this cat gives birth to a litter, make her calm and relaxed for a new cat sitter\".|\n",
    "\"There was a spell that went wrong, put these kittens back where they belong\".|\n",
    "'Double Time' - helps get work done twice as fast. \"Step lively, step quick. Make me move lickety split\". \"Step easy, step slow. Make me stop this 'go go go'\"|\n",
    "'The guys who ask Sabrina out are tired of waiting. From now on, Sabrina will say yes to dating'|\n",
    "'Poor Sabrina's not looking well, so quickly remove this dating spell'|\n",
    "\"\"\"\n",
    "\n",
    "spell = ''\n",
    "description = ''\n",
    "\n",
    "spells = []\n",
    "descriptions = []\n",
    "newLine = 0\n",
    "newSpell = 0\n",
    "newDescription = 0\n",
    "\n",
    "for letter in spellBundle:\n",
    "    \n",
    "    if letter == '|':\n",
    "        newLine = 0\n",
    "        newSpell = 0\n",
    "        newDescription = 0\n",
    "        \n",
    "        if spell == None:\n",
    "            spell = 'None'\n",
    "            \n",
    "        if description == '\"':\n",
    "            description = 'None'\n",
    "            \n",
    "        spells.append(spell)\n",
    "        descriptions.append(description)\n",
    "        spell = ''\n",
    "        description = ''\n",
    "        \n",
    "    else:\n",
    "        newLine = 1\n",
    "        if letter == '\"' and newSpell == 0:\n",
    "            newSpell = 1\n",
    "        elif letter == '\"' and newSpell == 1:\n",
    "            newSpell = 2\n",
    "            \n",
    "        if newSpell == 1:\n",
    "            spell += letter\n",
    "        else:\n",
    "            description += letter\n",
    "            \n",
    "trimmedSpells = []\n",
    "for spell in spells:\n",
    "    trimmedSpells.append(spell.rstrip())\n",
    "    \n",
    "trimmedDescriptions = []\n",
    "for description in descriptions:\n",
    "    trimmedDescriptions.append(description.rstrip())\n",
    "    \n",
    "DATABASE = {'Spells':trimmedSpells, 'Descriptions':trimmedDescriptions}\n",
    "pd.DataFrame(DATABASE).to_csv('spells.csv', header=True, index=False)"
   ]
  },
  {
   "cell_type": "code",
   "execution_count": 18,
   "metadata": {
    "collapsed": true
   },
   "outputs": [
    {
     "name": "stdout",
     "output_type": "stream",
     "text": [
      "To Make Herself Look Like Samantha\n",
      "To Send Them Back in Time\n",
      "To Send Them Back in Time 2\n",
      "To Turn Darrin into a Goat\n",
      "To Make Darrin Speak in Cliches\n",
      "To Send a Message into the Atmospheric Continuum\n",
      "To Send Serena to Old Salem\n",
      "To Make Samantha Feel What Serena Feels\n",
      "To Send Darrin to the Time of Henry VIII\n",
      "To Send Darrin to the Time of Henry VIII 2\n",
      "To Call Ophelia\n",
      "To Turn the Venus de Milo into a Woman\n",
      "To Call Alonzo\n",
      "To Call Ophelia\n"
     ]
    },
    {
     "ename": "AttributeError",
     "evalue": "'NoneType' object has no attribute 'get_text'",
     "output_type": "error",
     "traceback": [
      "\u001b[0;31m---------------------------------------------------------------------------\u001b[0m",
      "\u001b[0;31mAttributeError\u001b[0m                            Traceback (most recent call last)",
      "\u001b[0;32m<ipython-input-18-2897b03ce789>\u001b[0m in \u001b[0;36m<module>\u001b[0;34m()\u001b[0m\n\u001b[1;32m     21\u001b[0m     \u001b[0;32mreturn\u001b[0m \u001b[0mspellTitle\u001b[0m\u001b[0;34m,\u001b[0m \u001b[0mspellText\u001b[0m\u001b[0;34m\u001b[0m\u001b[0m\n\u001b[1;32m     22\u001b[0m \u001b[0;34m\u001b[0m\u001b[0m\n\u001b[0;32m---> 23\u001b[0;31m \u001b[0mspellTitle\u001b[0m\u001b[0;34m,\u001b[0m \u001b[0mspellText\u001b[0m \u001b[0;34m=\u001b[0m \u001b[0mcollect\u001b[0m\u001b[0;34m(\u001b[0m\u001b[0murl\u001b[0m\u001b[0;34m)\u001b[0m\u001b[0;34m\u001b[0m\u001b[0m\n\u001b[0m\u001b[1;32m     24\u001b[0m \u001b[0mprint\u001b[0m\u001b[0;34m(\u001b[0m\u001b[0;34m'Titles: '\u001b[0m\u001b[0;34m,\u001b[0m \u001b[0mspellTitle\u001b[0m\u001b[0;34m)\u001b[0m\u001b[0;34m\u001b[0m\u001b[0m\n\u001b[1;32m     25\u001b[0m \u001b[0mprint\u001b[0m\u001b[0;34m(\u001b[0m\u001b[0;34m'Spells: '\u001b[0m\u001b[0;34m,\u001b[0m \u001b[0mspellText\u001b[0m\u001b[0;34m)\u001b[0m\u001b[0;34m\u001b[0m\u001b[0m\n",
      "\u001b[0;32m<ipython-input-18-2897b03ce789>\u001b[0m in \u001b[0;36mcollect\u001b[0;34m(page)\u001b[0m\n\u001b[1;32m     12\u001b[0m     \u001b[0;32mfor\u001b[0m \u001b[0mspell\u001b[0m \u001b[0;32min\u001b[0m \u001b[0mbody\u001b[0m\u001b[0;34m.\u001b[0m\u001b[0mfind_all\u001b[0m\u001b[0;34m(\u001b[0m\u001b[0;34m'h3'\u001b[0m\u001b[0;34m)\u001b[0m\u001b[0;34m:\u001b[0m\u001b[0;34m\u001b[0m\u001b[0m\n\u001b[1;32m     13\u001b[0m \u001b[0;34m\u001b[0m\u001b[0m\n\u001b[0;32m---> 14\u001b[0;31m         \u001b[0mtitle\u001b[0m \u001b[0;34m=\u001b[0m \u001b[0mspell\u001b[0m\u001b[0;34m.\u001b[0m\u001b[0mfind\u001b[0m\u001b[0;34m(\u001b[0m\u001b[0mclass_\u001b[0m \u001b[0;34m=\u001b[0m \u001b[0;34m'mw-headline'\u001b[0m\u001b[0;34m)\u001b[0m\u001b[0;34m.\u001b[0m\u001b[0mget_text\u001b[0m\u001b[0;34m(\u001b[0m\u001b[0;34m)\u001b[0m\u001b[0;34m\u001b[0m\u001b[0m\n\u001b[0m\u001b[1;32m     15\u001b[0m         \u001b[0mspellTitle\u001b[0m\u001b[0;34m.\u001b[0m\u001b[0mappend\u001b[0m\u001b[0;34m(\u001b[0m\u001b[0mtitle\u001b[0m\u001b[0;34m)\u001b[0m\u001b[0;34m\u001b[0m\u001b[0m\n\u001b[1;32m     16\u001b[0m         \u001b[0mprint\u001b[0m\u001b[0;34m(\u001b[0m\u001b[0mtitle\u001b[0m\u001b[0;34m)\u001b[0m\u001b[0;34m\u001b[0m\u001b[0m\n",
      "\u001b[0;31mAttributeError\u001b[0m: 'NoneType' object has no attribute 'get_text'"
     ]
    }
   ],
   "source": [
    "#Scrape Bewitched Samantha\n",
    "\n",
    "url = 'http://bewitched.wikia.com/wiki/Endora%27s_Spells'\n",
    "    \n",
    "def collect(page):\n",
    "    spellTitle=[]\n",
    "    spellText=[]\n",
    "\n",
    "    souped = soupTheLink(page)\n",
    "    body = souped.find(class_='mediawiki')\n",
    "\n",
    "    for spell in body.find_all('h3'):\n",
    "        \n",
    "        title = spell.find(class_ = 'mw-headline').get_text()\n",
    "        spellTitle.append(title)\n",
    "        print(title)\n",
    "        \n",
    "        text = spell.find_next_sibling('p').get_text()\n",
    "        spellText.append(text)\n",
    "        \n",
    "    return spellTitle, spellText\n",
    "\n",
    "spellTitle, spellText = collect(url)\n",
    "print('Titles: ', spellTitle)\n",
    "print('Spells: ', spellText)"
   ]
  },
  {
   "cell_type": "code",
   "execution_count": 24,
   "metadata": {
    "collapsed": false
   },
   "outputs": [],
   "source": [
    "info = [[\"\"\"Name: Harvest \"\"\"], [\"\"\"Used By: The Master \"\"\"], [\"\"\"Episode: 1.2 (The Harvest, Part II) \"\"\"], [\"\"\"Quick Cast: No \"\"\"], [\"\"\"Power Level: ??\"\"\"], [\"\"\"         This spells links two vampires together. The target becomes the \"Vessel\". The blood drunk by the Vessel strengthens the caster.\"\"\"], [\"\"\"Spell: Hand of Corsheth \"\"\"], [\"\"\"Used by: Catherine Madison \"\"\"], [\"\"\"Episode: 1.3 Witch \"\"\"], [\"\"\"Verbal: \"I shall look upon my enemy. I shall look upon her and the dark place will have her soul. Corsheth! Take her!\" \"\"\"], [\"\"\"Motion: Outstretched hand to direct the bolt of energy. \"\"\"], [\"\"\"Quick Cast: Yes \"\"\"], [\"\"\"Power Level: 3\"\"\"], [\"\"\"         Effect: The spell transports its target to a \"dark place\", a prison of some sort from which she cannot escape. The spell can be deflected by mirrored surfaces, potentially bringing Corsheth down on you.\"\"\"], [\"\"\"         Power level determined as follows: People Affected = One (+1); Effect = Major (+3); Duration = Instant (0); Requirements = No Special Requirements (0); Special Feature: Redirected by Mirrors (-1)\"\"\"], [\"\"\"Name: Janus' Mask \"\"\"], [\"\"\"Used By: Ethan Rayne \"\"\"], [\"\"\"Episode: 2.6 Halloween \"\"\"], [\"\"\"Verbal: \"Janus, evoco vestram animam. Exaudi meam causam. Carpe noctem pro consilio vestro. Veni, appare et nobis monstra quod est infinita potestas. Persona se corpum et sanguium commutandum est. Vestra sancta praesentia concrescet viscera. Janus! Sume noctem!\" \"\"\"], [\"\"\"Translation: \"Janus, hear my plea. Take this as your own. Come forth and show us your truth. The mask is made flesh. The heart is curdled by your holy presence. Janus, this night is yours.\" \"\"\"], [\"\"\"Quick Cast: No \"\"\"], [\"\"\"Power Level: ??\"\"\"], [\"\"\"         This spells transforms everyone who is wearing a specially prepared costume into the person or creature they are dressed as. It can effect hundreds of people.\"\"\"], [\"\"\"Name: Eligor's Respite \"\"\"], [\"\"\"Used By: Spike \"\"\"], [\"\"\"Episode: 2.10 (What's My Line, Part II) \"\"\"], [\"\"\"Verbal: \"Eligor, I name thee. Bringer of war, prisoners, pariahs, grand obscenity! Eligor, wretched master of decay, bring your black medicine. Come restore your impious, murderous child. From the blood of the sire she is risen. From the blood of the sire she shall rise again.\" \"\"\"], [\"\"\"Requirements: The key. \"\"\"], [\"\"\"Quick Cast: No \"\"\"], [\"\"\"Power Level: ??\"\"\"], [\"\"\"         This heals a vampire of any injury, including disease and even magical illness. It requires the blood of the vampire's sire. The vampire is bound to its sire, and the key is stabbed through their hands. In five minutes, the\"\"\"], [\"\"\"Spell: Diana's Curse \"\"\"], [\"\"\"Used By: Amy \"\"\"], [\"\"\"Episode: 2.16 (Bewitched, Bothered, and Bewildered) \"\"\"], [\"\"\"Verbal: \"Diana, goddess of love and the hunt, I pray to thee. Let my cries bind the heart of Xander's beloved. May she neither rest nor sleep until she submits to his will only. Diana! Bring about this love and bless it!\" \"\"\"], [\"\"\"Requirements: A potion which must be boiled and several powders added to it. \"\"\"], [\"\"\"Power Level: ??\"\"\"], [\"\"\"         A love spell. If it goes awry, it can have disastrous consequences (and did, in the case of Amy's casting).\"\"\"], [\"\"\"Spell: Wasting Death \"\"\"], [\"\"\"Used by: Amy \"\"\"], [\"\"\"Episode: 2.16 (Bewitched, Bothered, and Bewildered) \"\"\"], [\"\"\"Verbal: \"Goddess Hecate, to you I pray, let my enemy shrivel and decay!\" \"\"\"], [\"\"\"Motion: Point hand at target \"\"\"], [\"\"\"Quick cast: Yes \"\"\"], [\"\"\"Power Level: 7\"\"\"], [\"\"\"\"\"\"], [\"\"\"         Effect: This spell causes the victim to be afflicted by a wasting disease that will first atrophy the muscles and decalcify the bones, then weaken the organs, and finally cause the victim to shrivel up like a prune and croak. Depending upon the victim's health, this could take anywhere from a few hours to several weeks, during which time the spell can be reversed.\"\"\"], [\"\"\"         Power level determined as follows: effect = Major +3, Target = One person +1, Duration = long +3\"\"\"], [\"\"\"Name: Revoke Invitation \"\"\"], [\"\"\"Used By: Willow \"\"\"], [\"\"\"Episode: 2.17 (Passion) \"\"\"], [\"\"\"Verbal: \"...his verbes, consensus recissus est.\" \"\"\"], [\"\"\"Translation: (By these words, consent repealed) \"\"\"], [\"\"\"Power Level: ??\"\"\"], [\"\"\"         This spell undoes an invitation into a home, making it impossible for a vampire to enter until he is again invited.\"\"\"], [\"\"\"Name: Ritual of Restoration \"\"\"], [\"\"\"Used By: Willow \"\"\"], [\"\"\"Episode: 2.22 (Becoming, Part 2) \"\"\"], [\"\"\"Verbal: \"Quod perditum est, invenietur. Not dead... nor not of the living. Spirits of the interregnum, I call. Gods, bind him. Cast his heart from the evil realm. Te implor, Doamne, nu ignora aceasta rugaminte. Nici mort, nici al fiintei... Lasa orbita sa fie vasul care-i va transporta, sufletul la el. Asa sa fie! Asa sa fie! Acum! Acum!\" \"\"\"], [\"\"\"Translation: \"What is lost, return. Not dead nor not of the living. Spirits of the interregnum, I call. Gods, bind him. Cast his heart from the evil realm. I implore you, Lord, do not ignore this request. Neither dead, nor of the living... Let this Orb be the vessel that will carry his soul to him. So it shall be! So it shall be! Now! Now!\" \"\"\"], [\"\"\"Motion: none \"\"\"], [\"\"\"Requirements: an Orb of Thesulah, candles arranged in a circle around the caster. \"\"\"], [\"\"\"Quick Cast: No \"\"\"], [\"\"\"Power Level: 6\"\"\"], [\"\"\"         Effect: The targeted vampire's soul is restored. She is still a vampire, but has all the goodies that go along with humanity such as conscience, guilt, and remorse. This spell alone will not impose a bat effect is reserved for the original spell, which has presumably been lost over the ages.\"\"\"], [\"\"\"         Power Level is determined as follows: People Affected (one person = +1), Effect Strength (Awesome = +5), Duration (Permanent = +3), Spell Requirements (Way-Rare Ingredients = -3)\"\"\"], [\"\"\"Name: Flame of Life \"\"\"], [\"\"\"Used By: Angel \"\"\"], [\"\"\"Episode: 3.7 (Revelations) \"\"\"], [\"\"\"Verbal: \"Exorere, Flamma Vitae. Prodi ex loco tuo elementorum, in hunc mundum vivorum.\" \"\"\"], [\"\"\"Translation: (Arise, Flame of Life. Come forth from your place of the elements, into this world of the living!) \"\"\"], [\"\"\"Power Level: ??\"\"\"], [\"\"\"         Effect: This creates a living flame which can burn and destroy any object. The fire is invoked in an urn or other container, which it cannot spread out of (assuming the spell is cast correctly). To create it requires several special powders which must be prepared. By casting the powders into an ordinary fire while chanting, the living flame is produced.\"\"\"], [\"\"\"Name: Lightning of Myhnegon \"\"\"], [\"\"\"Used By: Gwyndalin Post \"\"\"], [\"\"\"Episode: 3.7 (Revelations) \"\"\"], [\"\"\"Verbal: \"Taou huogan maqachte milegaing! Tauo freim!\" \"\"\"], [\"\"\"Translation: (Be mine, the power of Myhnegon! Be free) \"\"\"], [\"\"\"Quick Cast: Yes \"\"\"], [\"\"\"Power Level: ??\"\"\"], [\"\"\"         This spell requires the Glove of Myhnegon. It takes some time for a storm to gather and lightning bolt called down into the glove. However, after that point, the caster can cast lightning by a simple gesture and the phrase \"Tauo freim!\".\"\"\"], [\"\"\"Name: Summon Wish Demon \"\"\"], [\"\"\"Used By: Giles \"\"\"], [\"\"\"Episode: 3.9 (The Wish) \"\"\"], [\"\"\"Verbal: \"Anyanka, I beseech thee. In the name of all women scorned, Come before me!\" \"\"\"], [\"\"\"Power Level: ??\"\"\"], [\"\"\"         Summons the wish demon Anyanka.\"\"\"], [\"\"\"Name: True Form \"\"\"], [\"\"\"Used By: Giles \"\"\"], [\"\"\"Episode: 3.11 (Gingerbread) \"\"\"], [\"\"\"Verbal: \"Ihr Goetter, ruft Euch an! Verbergt Euch nicht hinter falschen Gesichtern!\" \"\"\"], [\"\"\"Translation: \"You gods, I call upon you! Do not hide behind false faces!\" \"\"\"], [\"\"\"Power Level: ??\"\"\"],  [\"\"\"         This spell causes a demon to revert from any illusion or transformation into its true form.\"\"\"], [\"\"\"Name: Clouding \"\"\"], [\"\"\"Used By: Willow \"\"\"], [\"\"\"Episode: 3.13 (The Zeppo) \"\"\"], [\"\"\"Power Level: ??\"\"\"], [\"\"\"         This creates a dense fog which obscures vision over a large area: a building or cave. The caster must hold a lit candle while the fog is in effect. The fog can be dissipated by the phrase \"Obscurate nos non diutius\" (\"Do not conceal any longer\").\"\"\"], [\"\"\"Name: Zombie Creation \"\"\"], [\"\"\"Used By: Jack O'Toole \"\"\"], [\"\"\"Episode: 3.13 (The Zeppo) \"\"\"], [\"\"\"Verbal: \"He calls forth the Spirit of Uurthu, the restless. No one shall speak. He shall arise! Hear me... The blood of the Earth shall restore him... And he shall arise. Shall arise!\" \"\"\"], [\"\"\"Requirements: A chicken foot to dangle over the grave of the deceased, and the spilling of the caster's living blood on the grave earth. \"\"\"], [\"\"\"Quick Cast: No \"\"\"], [\"\"\"Power Level: ??\"\"\"], [\"\"\"         This calls a zombie back from the grave. The spell is invoked while dangling a chicken foot over the grave of the person. The caster then must spill some of his living blood onto the grave earth. It can only work when the \"stars are aligned\" which happens perhaps once every year (Jack O'Toole had to wait 8 months for it to happen from when his friends died).\"\"\"], [\"\"\"Name: Hebron's Binding \"\"\"], [\"\"\"Used By: Willow \"\"\"], [\"\"\"Episode: 3.13 (The Zeppo) \"\"\"], [\"\"\"Verbal: \"Terra, vente, ignis et pluvia. Cuncta quattuor numina, vos obsecro. Defendete nos a recente malo resoluto. Omnia... vasa... veritatis!\" \"\"\"], [\"\"\"Translation: \"Earth, wind, fire and rain. Linger four gods, we implore you. Defend us, immediately after I will release you. All things... the vessel... of truth!\" \"\"\"], \n",
    "        [\"\"\"Power Level: ??\"\"\"], [\"\"\"         This is a powerful protection spell which is used to bind a demon. It was found in Hebron's Almanac, and was used to bind the Hellmouth demon. It is invoked from a black circular figure painted on the floor. Eight rays extend from the edge. Inside are four small semicircles which mark the four corners. At the center three short lines intersect. A lit candle stands on each line and a fourth at their intersection. All around the circle and the room are more candles.\"\"\"], [\"\"\"Name: Eryishon's Spell of Recall \"\"\"], [\"\"\"Used By: Anya and Willow \"\"\"], [\"\"\"Episode: 3.16 (Dopplegandland) \"\"\"], [\"\"\"Verbal: \"Diprecht. Doh-tehenlo nu-Eryishon. The child to the mother. The river to the sea. Eryishon, hear my prayer.\" \"\"\"], [\"\"\"Requirements: Chicken feet, sacred sand, representation of the object to be recalled, candles arranged around the casters, miscellaneous herbs. \"\"\"], [\"\"\"Motion: The casters sit opposite each other with palms outstretched almost touching. As the spell is cast, the sacred sand is poured onto the representation of the object. \"\"\"], [\"\"\"Quick Cast: No \"\"\"], [\"\"\"Power Level: 6 \"\"\"], [\"\"\"         This opens a temporal fold to put or return something or someone to an alternate timeline. The caster calls upon the Eryishon, The Endless One, and pours sacred sand over the representation of the object, and Eryishon brings it forth from the time and place it was lost. The object may be anything from a lost necklace to a vampiric twin.\"\"\"], [\"\"\"         Power Level is determined as follows: People Affected (Noticeable = +1), Effect Strength (Major = +3), Duration (Permanent = +3), Spell Requirements (Unusual Ingredients = -1).\"\"\"], [\"\"\"Name: Dissolution \"\"\"], [\"\"\"Used By: Willow \"\"\"], [\"\"\"Episode: 3.19 (Choices) \"\"\"], [\"\"\"Verbal: \"Sis modo dissolutum exposco, validum scutum! Diutius nec defende a manibus arcam, intende!\" \"\"\"], [\"\"\"Translation: (Be now dissolved, I demand, o powerful shield; no longer defend the box from our hands. Hear us!) \"\"\"], [\"\"\"Quick Cast: No \"\"\"], [\"\"\"Power Level: 7\"\"\"], [\"\"\"         This spells breaks down magical barriers.\"\"\"], [\"\"\"Name: Soul Reversion \"\"\"], [\"\"\"Used By: Giles \"\"\"], [\"\"\"Episode: 4.2 (Living Conditions) \"\"\"], [\"\"\"Verbal: \"Hear me, Elders of the Upper Reaches, Elders of the Lower Reaches, Elders of the Dry Land, Elders of the River Flats, ... The soul that is trapped, let it revert to its true seat.\" \"\"\"], [\"\"\"Quick Cast: No \"\"\"], [\"\"\"Power Level: 6\"\"\"], [\"\"\"         This spell fully reverts a trapped soul to the body of its proper owner.\"\"\"], [\"\"\"Name: Summon Fear Demon \"\"\"], [\"\"\"Used By: Oz (?) \"\"\"], [\"\"\"Episode: 4.4 (Fear, Itself) \"\"\"], [\"\"\"Quick Cast: No \"\"\"], [\"\"\"Power Level: 3\"\"\"], [\"\"\"         This spell was accidentally invoked by spilling blood onto a painted symbol copied from a book. It begins to summon a fear demon, which feeds on the fears of those present. The ritual is completed by breaking the symbol.\"\"\"], [\"\"\"         Power Level is determined as follows: Effect Strength (Major = +3), Duration (Long = +1), Spell Requirements (Unusual Ingredients = -1).\"\"\"], [\"\"\"Name: Light of Guidance \"\"\"], [\"\"\"Used By: Willow \"\"\"], [\"\"\"Episode: 4.4 (Fear, Itself) \"\"\"], [\"\"\"Verbal: \"Aradia, Goddess of the lost, the path is murky, the woods are dense, darkness pervades, I beseech thee, bring the light.\" \"\"\"], [\"\"\"Power Level: 3\"\"\"], [\"\"\"         The caster summons a tiny light which will guide her to any place or anyone which she reasonably knows or can describe. Willow attempted this spell to guide her out of a haunted house.\"\"\"], [\"\"\"         Power Level is determined as follows: Effect Strength (Noticeable = +1), Duration (Medium = +0), may be Quick Cast (+2).\"\"\"], [\"\"\"Name: Instant Cool \"\"\"], [\"\"\"Used By: Jonathan \"\"\"], [\"\"\"Episode: 4.17 (Superstar) \"\"\"], [\"\"\"Requirement: A lengthy ritual (2 hours+) involving the blood of the spell caster. It may only be cast on halfway point between the autumnal equinox and the vernal equinox. A mark on the skin is given at the completion of the spell. \"\"\"], [\"\"\"Quick Cast: No \"\"\"], [\"\"\"Power Level: 9\"\"\"], [\"\"\"         An augmentation spell that turns the sorcerer into a sort of paragon - the best of everything, everyone's ideal. The spellcaster's stats are automatically put up to Experienced Hero level, or higher, at Director's discretion, and Qualities or Drawbacks, especially those of Nerd or Misfit, must be reviewed and exchanged for more \"acceptible\" ones of equal value, such as Adversary (required), Dependent or Honorable, while the spellcaster is a paragon. The sorcerer must take a mark upon his or her body as part of the ritual. It is an ancient symbol from an unknown race, and is permanent, staying on the spell caster until the spell is broken.\"\"\"], [\"\"\"         But there's another type of drawback. In order to balance the new force of good, the spell has to create the opposing force of evil - the worst of everything, everyone's nightmare. The creature will have attributes and stats of equal standing with the spellcaster's improved stats, and the well-being of this creature is linked to the sorcerer. It becomes the sorcerer's Adversary, attempting to attack him, and anyone else in it's way. It will wear the same mark as the spellcaster. If it is injured, the sorcerer reduces the boost in his or her Attributes and Life Points by half, and if it dies, the spell is broken and the sorcerer reverts to whatever he was before.\"\"\"], [\"\"\"         Additionally, if an inexperienced spellcaster casts this (Sorcery level 1 or 2), the magics won't last longer than an episode (if not dispelled before then), and major side effects will happen as the spell corrodes. This could cause a physical or temporal breach, summon a powerful entity, or other terrible side effect, at the Director's discretion.\"\"\"], [\"\"\"         Power level determined as follows: Duration (Permanent = +3), People Affected (Awesome = +5), Effect Strength (Major = +3).\"\"\"], [\"\"\"Spell: Lover's Vengeance \"\"\"], [\"\"\"Used By: Willow \"\"\"], [\"\"\"Episode: 4.6 (Wild at Heart) \"\"\"], [\"\"\"Verbal: \"I conjure thee by barabbas, by satanas, and the devil. As thou art burning, let Oz and Veruca's deceitful hearts be broken. This way. I conjure thee by the saracen queen And the name of hell. Let them find no love or solace. Let them find no peace as well...Let this image seal his fate, not to love, only hate.\" \"\"\"], [\"\"\"Requirements: Candles, a potion, and an image of the target(s) \"\"\"], [\"\"\"Power Level: ??\"\"\"], [\"\"\"         This was the spell started by Willow to take vengeance on Veruca and Oz, though she stopped before going through with it. It presumably would have permanently caused a broken heart, as the spell words indicate.\"\"\"], [\"\"\"Name: Force of Will \"\"\"], [\"\"\"Used By: Willow \"\"\"], [\"\"\"Episode: 4.9 (Something Blue) \"\"\"], [\"\"\"Verbal: \"Harken all ye elements, I summon thee now. Control the outside, control within. Land and sea, fire and wind. Out of my passions, a web be spun. From this eve forth, my will be done. So mote it be.\" \"\"\"], [\"\"\"Requirements: A circle of red candles surrounding the caster, an incense censer, a bowl/pentacle in front of the caster, a goblet of sorts, and three trays containing herbs. \"\"\"], [\"\"\"Quick Cast: No \"\"\"], [\"\"\"Power Level: ??\"\"\"], [\"\"\"         This is a spell for a spellcaster to have her will done. It can be extremely powerful, but is difficult to control. While it is in effect, with just a few heart-felt words the caster can blind a person, control loves, and many other effects. It can be undone with the invocation: \"Let the healing power begin. Let my will be safe again. As these words of peace are spoken, let this harmful spell be broken.\"\"\"], [\"\"\"Name: Truth Spell \"\"\"], [\"\"\"Used By: Giles \"\"\"], [\"\"\"Episode: 4.9 (Something Blue) \"\"\"], [\"\"\"Verbal: \"Elobe, enemy, be now, quiet. Let your decietful tongue be...Let no... untruths be spoken...\" \"\"\"], [\"\"\"Quick Cast: ?? \"\"\"], [\"\"\"Power Level: ??\"\"\"], [\"\"\"         This spell forces the target to tell the truth.\"\"\"], [\"\"\"Name: Summon D'Hoffryn \"\"\"], [\"\"\"Used By: Anya \"\"\"], [\"\"\"Episode: 4.9 (Something Blue) \"\"\"], [\"\"\"Verbal: \"Blessed be, the name of D'Hoffryn. Let this space be now a gateway to the world of Arash Ma'har, where demons are spawned.\" \"We come in supplication. We bend as the reed... in the flow of the, uh... ..... we..we come in the flow of the, uh.....!?\" \"\"\"], [\"\"\"Power Level: ??\"\"\"], [\"\"\"Name: Light \"\"\"], [\"\"\"Used By: Willow \"\"\"], [\"\"\"Episode: 5.4 (Out of My Mind) \"\"\"], [\"\"\"Requirements: A bottle of specially prepared fluid. \"\"\"], [\"\"\"Verbal: \"Fiat Lux!\"\"\"], [\"\"\"         This lights a room or cave-sized area with a soft diffuse light.\"\"\"], [\"\"\"Name: Ghost Warrior Summoning \"\"\"], [\"\"\"Used By: Hus \"\"\"], [\"\"\"Episode: 4.8 (Pangs) \"\"\"], [\"\"\"Verbal: \"First people who dwell in mishupashup, hear me and descend. Walk with me upon itiashup again. Hear me also, nunashush. Spirits from below... Creatures of the night... Take human form and join the battle. Bring me my revenge! \"\"\"], [\"\"\"Power Level: ??\"\"\"], [\"\"\"         This spells summons spirits of the dead to material form for vengeance purposes.\"\"\"], [\"\"\"Spell: Ionization \"\"\"], [\"\"\"Used By: Willow \"\"\"], [\"\"\"Episode: 4.13 (The I In Team) \"\"\"], [\"\"\"Verbal: \"Tropo, strato, meso, aero, iono, exo... Elements are brought to bear. Wind, earth, and water churn amidst the fire. Let the air be burned.\" \"\"\"], [\"\"\"Power Level: ??\"\"\"], \n",
    "    [\"\"\"         Ionizes the atmosphere, obscuring radio signals, making hair look funny, and possibly other effects.\"\"\"], [\"\"\"Name: Ritual of Joining \"\"\"], [\"\"\"Used By: Willow \"\"\"], [\"\"\"Episode: 4.21 (Primeval) \"\"\"], [\"\"\"Verbal: \"The power of the Slayer and all who yield it. Last to ancient first, we invoke thee. Grant us thy domain and primal strength. Accept us in the power we possess. Make us mind and heart and spirit joy. Let the hand encompass us. Do thy will.\" \"Spiritus... Spirit.\" \"Animus... Heart.\" \"Sophus... Mind.\" \"And Manus... The hand.\" \"We enjoin that we may inhabit the vessel - the hand... daughter of Sineya... first of the ones...\" \"We implore thee, admit us, bring us to the vessel, take us now.\" \"\"\"], [\"\"\"Requirements: Tarots representing each of the four participants (Hand, Mind, Spirit, Heart), candles arranged in a circle around the caster and the other two participants, recitation of the spell. \"\"\"], [\"\"\"Motion: Turning of the tarots. \"\"\"], [\"\"\"Quick Cast: No \"\"\"], [\"\"\"Power Level: 6\"\"\"], [\"\"\"         Effect: The participants of this spell add their stats to the stats of the targeted Slayer. For example, Buffy would have a Strength of 15, Willpower of 19, Occultism of 20, and a Getting Medieval of 21. In addition to Attributes and Skills, also add the participants' Qualities at your discretion (Sorcery and Hard to Kill would be appropriate while Attractiveness would be very out of place). Also roll a D10 and add half the total to each stat to represent the power of the Slayers of the past lending their power. Note that the use of this spell might will attract the attention of the Spirit of the Slayer. The Director should feel free to use this as he sees fit.\"\"\"], [\"\"\"         Power Level is determined as follows: People Affected (2-10 = +2), Effect Strength (Awesome = +5), Duration (One minute per Success Level = 0), Spell Requirements (No Special Requirements), Limited Target Selection (Slayer = -1).\"\"\"], [\"\"\"Spell: Adamanteus Aer (Steel Air) \"\"\"], [\"\"\"Used by: Willow \"\"\"], [\"\"\"Episode: 5.19 (Intervention) \"\"\"], [\"\"\"Verbal: \"Thicken!\" \"\"\"], [\"\"\"Motion: An outstreched palm \"\"\"], [\"\"\"Quick cast: Yes \"\"\"], [\"\"\"Power Level: 3\"\"\"], [\"\"\"         Effect: This spell causes the air to harden into a barrier as strong as an inch of steel plate, the barrier is approximately 20 feet high and wide and is invisible unless touched (in which case the air seems to \"ripple\"), if cast in a smaller space the barrier will re-size itself. The barrier lasts for one minute per success level of the spell. The spell can be cast anywhere within 100 feet of the caster but it will only cast in open space it can not displace living or inert matter. This spell is useful for both blocking the escape of fleeing foes or providing a barrier for a hasty retreat.\"\"\"], [\"\"\"         Power level determined as follows: Effect (Major = +3), Target (None = 0), Duration (Medium = 0).\"\"\"], [\"\"\"Name: Fist of Air \"\"\"], [\"\"\"Used By: Willow \"\"\"], [\"\"\"Episode: 5.20 (Spiral) \"\"\"], [\"\"\"Verbal: Air become Fist (spoken in Russian) \"\"\"], [\"\"\"Power Level: ??\"\"\"], [\"\"\"         This spell strikes the target with a physical force of solidified air. It not only does damage, but also throws the target a considerable distance (as it did when Willow used it to launch Glory away from them).\"\"\"], [\"\"\"Name: Protective Wall \"\"\"], [\"\"\"Used By: Willow \"\"\"], [\"\"\"Episode: 5.20 (Spiral) \"\"\"], [\"\"\"Verbal: Enemies, fly and fall...circling arms, raise a wall! \"\"\"], [\"\"\"Power Level: ??\"\"\"], [\"\"\"         This is the spell that Willow used to protect them from the Knights.\"\"\"], [\"\"\"Name: Repair \"\"\"], [\"\"\"Used By: Willow \"\"\"], [\"\"\"Episode: 5.20 (Spiral) \"\"\"], [\"\"\"Verbal: \"Discharge and bring life.\"\"\"], [\"\"\"         Phone repair anyone? She uses this to make the broken phone work.\"\"\"], [\"\"\"Name: ?? \"\"\"], [\"\"\"Used By: Willow \"\"\"], [\"\"\"Episode: 5.20 (Spiral) \"\"\"], [\"\"\"Verbal: Hear... hear my plea... circling arms protecting me... (unfinished) \"\"\"], [\"\"\"Power Level: ??\"\"\"], [\"\"\"         This is the reversal for the Barrier Spell.\"\"\"], [\"\"\"Name: Resurrectin of Osiris \"\"\"], [\"\"\"Used By: Willow \"\"\"], [\"\"\"Episode: 6.1 (Bargaining - Part One) \"\"\"], [\"\"\"Requirements: An Urn of Osiris (a priceless artifact), blood from an slain deer, and three helpers chanting in a circle around it with candles over the body of the target. \"\"\"], [\"\"\"Quick Cast: No \"\"\"], [\"\"\"Power Level: 4\"\"\"], [\"\"\"This spell raises from the dead one who was slain by unnatural magics. New flesh grows around the target's corpse and restores soul, life, and memories. Even upon success, the ritual takes a great toll upon the caster, causing exhaustion and even physical damage.\"\"\"], [\"\"\"         Power Level is determined as follows: People Affected (One Person = +1), Effect Strength (Awesome = +5), Duration (Permanent = +3), Spell Requirements (Way-Rare Ingredients = -3), Multiple Casters (-2).\"\"\"], [\"\"\"Name: Bolt of Light \"\"\"], [\"\"\"Used By: Tara \"\"\"], [\"\"\"Episode: 6.1 (Bargaining - Part One) \"\"\"], [\"\"\"Verbal: \"Dissolvo\" \"\"\"], [\"\"\"Quick Cast: Yes \"\"\"], [\"\"\"Power Level: 4\"\"\"], [\"\"\"A ball of light shoots from the caster's hand and shoves the target back. It was used by Tara to strike a vampire on a motorcycle in the back -- he dropped the person he was holding (Anya) and crashed into a tree.\"\"\"], [\"\"\"         Power Level is determined as follows: People Affected (One Person = +1), Effect Strength (Severe = +3), Duration (), Spell Requirements (Way-Rare Ingredients = -3), Multiple Casters (-2).\"\"\"], [\"\"\"Name: Tabula Rasa Level 1 \"\"\"], [\"\"\"Used By: Willow \"\"\"], [\"\"\"Episode: 6.6 (All the Way) \"\"\"], [\"\"\"Verbal: \"Forget\" \"\"\"], [\"\"\"Requirements: Lethe's Bramble (fairly common) and a 15-minute chanting session detailing what memory is to be eliminated. \"\"\"], [\"\"\"Quick Cast: Yes \"\"\"], [\"\"\"Power Level: 5 or higher\"\"\"], [\"\"\"         Effect: The target of this spell loses a specific memory. They go about their lives as if the specified event had never happened. If they are made aware of their lost memories, though, they may roll their Perception + Occultism with a difficulty of 9 + the number of success levels of the original spell to regain their lost memory.\"\"\"], [\"\"\"         Power Level is determined as follows: People Affected (One Person = +1, increase if more than one target by the appropriate amount), Effect Strength (Minor = +1), Duration (Permanent = +3), Spell Requirements (No Special Requirements).\"\"\"], [\"\"\"Name: Tabula Rasa Level 2 \"\"\"], [\"\"\"Used By: Willow \"\"\"], [\"\"\"Episode: 6.8 (Tabula Rasa)\"\"\"], [\"\"\"Verbal: \"For Buffy and Tara, this I char. Let Lethe's bramble do its chore. Purge their minds of memories grim, Of pains from recent slights and sins. When the fire burns out, when the crystal turns black, the spell will be cast. Tabula Rasa, Tabula Rasa, Tabula Rasa.\" \"\"\"], [\"\"\"Requirements: Quick Cast: No \"\"\"], [\"\"\"Power Level: 7 or higher\"\"\"], [\"\"\"         Effect: The target(s) of this spell loose all memories related to a specific event or emotion. This spell is used to erase an event from the not-so-recent past, such as Buffy being in heaven, as well as the emotions and memories associated with it. Targeted memories will be lost after the crystal turns black (approximately a half hour). These memories will only return if the crystal is broken.\"\"\"], [\"\"\"         Power Level is determined as follows: People Affected (One person = +1, increase if more than one target by the appropriate amount), Effect Strength (Severe = +3), Duration (Permanent = +3), Spell Requirements (No Special Requirements).\"\"\"], [\"\"\"Name: Lagomorpic Summoning \"\"\"], [\"\"\"Used By: Anya \"\"\"], [\"\"\"Episode: 6.8 (Tabula Rasa) \"\"\"], [\"\"\"Verbal: \"Bara bara himble gemination\" or \"Hible abri, abri voyon\" \"\"\"], [\"\"\"Requirements: None \"\"\"], [\"\"\"Quick Cast: Yes \"\"\"], [\"\"\"Power Level: 3\"\"\"], [\"\"\"         Effect: This spell summons rabbits. It's one of those incantations which \"wants to be cast,\" however, and doesn't seem to even drain the user. Unwary sorcerers can inadvertantly create a veritable pit of cotton-top hell with this one. GMs are invited to be creative when dealing with abuse of this spell.\"\"\"], [\"\"\"         Power level is determined as follows: People Affected (One Rabbit, +1); Effect Strength (Severe, +2); Duration (Meaningless); Spell Requirements (No Special Requirements)\"\"\"], [\"\"\"Name: Wind Flight \"\"\"], [\"\"\"Used By: Willow \"\"\"], [\"\"\"Episode: 6.21 (Two to Go) \"\"\"], [\"\"\"Requirements: \"\"\"], [\"\"\"Power Level: 5\"\"\"], [\"\"\"The caster transforms and flies through the air at a speed faster than normal running, but not super-fast. (Anya refers to this as \"Very flashy, impresses the locals, but it does take longer\".) The caster appears only as a swirling mass of smoke, and when one eventually lands rematerializes into a normal body.\"\"\"], [\"\"\"NOTE: Anya's full comment was in response to Buffy suggesting that Willow could be in town already. Anya responded \"No she couldn't. A witch at her level? She could only go airborne. It's a thing. Very flashy, impresses the locals, but it does take longer.\" This implies something about the power of the spell with regard to witches.\"\"\"], [\"\"\"Name: Drain Power \"\"\"], [\"\"\"Used By: Willow \"\"\"], [\"\"\"Episode: 6.21 (Two to Go) \"\"\"], [\"\"\"Requirements: none\"\"\"], [\"\"\"This spell requires only a touch and a gesture. The caster drains magical power from the person touched. It was used by Willow to drain Rack of magical power (and do the same of Giles the next episode).\"\"\"], \n",
    "    [\"\"\"Name: .... \"\"\"], [\"\"\"Used By: Willow \"\"\"], [\"\"\"Episode: 6.21 (Two to Go) \"\"\"], [\"\"\"Requirements: none\"\"\"], [\"\"\"A electrical bolt of force.\"\"\"], [\"\"\"Name: Blessing of Shamash \"\"\"], [\"\"\"Used By: Anya \"\"\"], [\"\"\"Episode: 6.21 (Two to Go) \"\"\"], [\"\"\"Verbal: \"Gurumeh ninginmeh, nugulgulah, gurumeh ninginmeh, chehmeh dulduleh.\" \"\"\"], [\"\"\"Requirements: The target need not be in the caster's line of sight, but the spell must be continuously chanted to maintain the effects. \"\"\"], [\"\"\"Power Level: 1-3\"\"\"], [\"\"\"         Effect: The target of this spell is shielded from magical damage. Each time the chant is completed, the target gains a \"magical buffer\" equal to double to caster's willpower. This effect is cumulative as long as the spell is continuously chanted.\"\"\"], [\"\"\"         Power Level is determined as follows: People Affected (None = 0, One Person = +1, 2-10 People = +2), Effect Strength (Severe = +2), Duration (Short = -1), Special Requirements (No special requirements).\"\"\"], [\"\"\"Name: Strength of Magic \"\"\"], [\"\"\"Used by: Willow \"\"\"], [\"\"\"Episode: 6.21 (Two to Go) \"\"\"], [\"\"\"Verbal: \"da mihi vim\" (Latin for \"give me strength\") \"\"\"], [\"\"\"Motion: Concentrate on self \"\"\"], [\"\"\"Quick Cast: Yes \"\"\"], [\"\"\"Power Level: 7\"\"\"], [\"\"\"         Effect: This spell grants the caster superhuman physical abilities. On casting the witches strength, dexterity and constitution are boosted by +1 for every success level of the magic roll. It lasts for an hour per success level of the spell. Failure to gain the required success levels can have extremely unpleasant effects as the spell reduces the casters LP by 10 for every level the caster is short of the required number of success levels, the spell will also have no beneficial effect on the casters physical abilities.\"\"\"], [\"\"\"         Example: Dark Willow (occult 8, willpower 5, sorcery 9) has decided that the best way to overcome her grief at Tara's passing is to beat a couple of nerds into a pulpy paste. She rolls her magic bonus (8+5+5)=18 and spends a drama point for +10 to the roll which comes up an 7 for a total of 35 (gulp) thats 10 success levels. Mild mannered Willow's stats jump up to Strength: 11, Dexterity: 12, Constitution: 13.\"\"\"], [\"\"\"         Power level is determined as follows: People Affected (One Person, +1); Effect Strength (Severe x3, +5); Duration (long, +1); Spell Requirements (No Special Requirements).\"\"\"], [\"\"\"Name: Flounder Opponent \"\"\"], [\"\"\"Used By: Giles \"\"\"], [\"\"\"Episode: 6.22 (Grave) \"\"\"], [\"\"\"Verbal: \"Stay down!\" \"\"\"], [\"\"\"Requirements: A personal item belonging to the victim; Witches or Warlocks, a word and a gesture. \"\"\"], [\"\"\"Quick Cast: Yes. \"\"\"], [\"\"\"Power Level: 1 \"\"\"], [\"\"\"         Effect: Pretty much just knocks someone off their feet and disorients them. In combat, the victim spends a turn regaining his footing and bearings. This comes in handy when your enemy is trying to shoot you with a crossbow, or when you just want to embarass that obnoxious cheerleader during halftime. Any damage is incidental (get her while she's at the top of the human pyramid.)\"\"\"], [\"\"\"         Power level is determined as follows: People Affected (One Person, +1); Effect Strength (Minor); Duration (Meaningless); Spell Requirements (No Special Requirements)\"\"\"], [\"\"\"Name: Binding Field \"\"\"], [\"\"\"Used By: Giles \"\"\"], [\"\"\"Episode: 6.22 (Grave) \"\"\"], [\"\"\"Verbal: \"Vincire!\" \"\"\"], [\"\"\"Translation: \"to bind, tie up; to surround, encompass; to restrain, confine, secure\" \"\"\"], [\"\"\"Requirements: A half hour of chanting, a nifty binding circle drawn on the floor (which the subject must be within at the end of the ritual); Witches or Warlocks, a word and a gesture. \"\"\"], [\"\"\"Quick Cast: Yes. \"\"\"], [\"\"\"Power Level: 7\"\"\"], [\"\"\"         Effect: Paralyzes the subject within a nifty ring of shimmering force. The spell reduces the victims Willpower and Dexterity by one per Success Level. Subjects reduced to -2 Dexterity or below are paralyzed, subjects reduced to -2 Willpower or below are unable to use magic or Telekinesis. Characters bound in such a field may be able to exert enough force of will (one Drama Point) to communicate (verbally or mentally) for a short period of time. Note that Giles probably used a Drama Point to put this one on Willow as well as he did, and Willow almost certainly used a couple to get Anya to release her from it.\"\"\"], [\"\"\"         Power level is determined as follows: People Affected (One Person, +1); Effect Strength (Two Severe Effects, +3); Duration (Permanent [Or Until Dispelled Or Cancelled], +3); Spell Requirements (No Special Requirements)\"\"\"], [\"\"\"         Special Note: Willow uses a simple incantation (\"Solutum,\" or \"to loosen; to untie , release, free; to dissolve, break up; to exempt; to break up, weaken, bring to an end; to pay off, discharge a debt\" in Latin) to dispell this effect the second time Giles tries to use it on her. \"Solvo\" and \"Libero\" (\"to set free, liberate, release, exempt\" in Latin) apparently weren't the right counterspells for this one.\"\"\"], [\"\"\"Name: Blocking Spell \"\"\"], [\"\"\"Used By: Giles \"\"\"], [\"\"\"Episode: 6.22 (Grave) \"\"\"], [\"\"\"Verbal: \"Tego!\" \"\"\"], [\"\"\"Translation: \"to cover; to bury; to conceal; to shield\" \"\"\"], [\"\"\"Requirements: Generally not used by non-Witches/Warlocks due to lack of situational practicality; Witches or Warlocks, a single spoken word. \"\"\"], [\"\"\"Quick Cast: Yes. \"\"\"], [\"\"\"Power Level: 1\"\"\"], [\"\"\"         Effect: Drags some sort of existing obstacle between the user and an approaching attack. This is almost sort of a Telekinetic reflexive defense. Of course, it's only useful if a. the caster knows about the attack and b. he/she gets it off before the attack takes place (wins Initiative.) It also assumes the availability of a suitable obstacle (a combat practice dummy, a dresser, a manequin, a corpse, rare antiques, etc.) The spell (deliberately) won't directly affect people, so innocent bystanders need not apply. How much protection is offered depends on what's available.\"\"\"], [\"\"\"         Power level is determined as follows: Due to the limitations on this spell, it really only merits a Power Level of 1. It's mostly a reflexive activation of the casters own Telekinesis ability.\"\"\"], [\"\"\"Name: Hammer of Govannon \"\"\"], [\"\"\"Used By: Giles \"\"\"], [\"\"\"Episode: 6.22 (Grave) \"\"\"], [\"\"\"Verbal: \"Excudo!\" \"\"\"], [\"\"\"Translation: \"I hammer out\" or \"I forge\" \"\"\"], [\"\"\"Requirements: A good half hour of invoking the Celtic god of blacksmiths; for Witches or Warlocks, a word and a gesture. \"\"\"], [\"\"\"Motion: Throwing gesture toward target. \"\"\"], [\"\"\"Quick Cast: Yes. \"\"\"], [\"\"\"Power Level: 6\"\"\"], [\"\"\"         Effect: A simple bolt of pure force, in the form of a glowing mass of energy slamming into the target. The force of this attack is kinetic, and can do such neat stuff as pulverize things or throw people back through brick walls. Do not cast in glass houses. Does five times Willpower points of damage per Success Level.\"\"\"], [\"\"\"         Power level is determined as follows: People Affected (One Person = +1); Effect Strength (Awsome = +5), calculating from Giles' scores, he would have needed this power level with his average of five Success Levels to throw Willow back through a brick wall and half a concrete support); Duration (Meaningless); Spell Requirements (No Special Requirements).\"\"\"], [\"\"\"Name: Seeking Flame \"\"\"], [\"\"\"Used By: Willow \"\"\"], [\"\"\"Episode: 6.22 (Grave) \"\"\"], [\"\"\"Requirements: A fire to grab and manipulate. \"\"\"], [\"\"\"Motion: Pick up a ball of the flame, concentrate on it a minute, then throw it in the air. \"\"\"], [\"\"\"Quick Cast: Yes. \"\"\"], [\"\"\"Power Level: 6\"\"\"], [\"\"\"This creates a magical ball of flame which will seek out a known target and fly after it, exploding upon reaching it with a serious force (more than a grenade -- more like an antitank rocket). It can be dodged only at the last second. It flies at a speed greater than normal running but not super-fast (Buffy overtook it with superhuman running).\"\"\"], [\"\"\"Name: Striking Breath \"\"\"], [\"\"\"Used By: Giles \"\"\"], [\"\"\"Episode: 6.22 (Grave) \"\"\"], [\"\"\"Verbal: \"Incurso\" \"\"\"], [\"\"\"Translation: (Latin) \"to run against, strike against, attack\" \"\"\"], [\"\"\"Motion: A jet of green energy shoots out from the caster's mouth. \"\"\"], [\"\"\"Quick Cast: Yes. \"\"\"], [\"\"\"Power Level: 5\"\"\"], [\"\"\"A bolt of force which damages/stuns and confuses the target.\"\"\"], [\"\"\"Name: Summon Earth Elementals \"\"\"], [\"\"\"Used By: Willow \"\"\"], [\"\"\"Episode: 6.22 (Grave) \"\"\"], [\"\"\"Quick Cast: No. \"\"\"], [\"\"\"Power Level: 6\"\"\"], [\"\"\"The caster concentrates for some time, and then summons a large number (perhaps a dozen) of tough creatures of animated earth, with claw-like arms. These may appear in any location where there is natural earth to be animated.\"\"\"], [\"\"\"Name: Proserpex's Effigy \"\"\"], [\"\"\"Used By: Willow \"\"\"], [\"\"\"Episode: 6.22 (Grave) \"\"\"], [\"\"\"Verbal: Proserpexa... Let the cleansing fires from the depths burn away the suffering souls... And bring sweet death. \"\"\"], [\"\"\"Quick Cast: No. \"\"\"], [\"\"\"Power Level: 8\"\"\"], [\"\"\"A spell to drain the planet's life force, funnel its energy through a magical effigy of Preserpexa (a powerful \"she-demon\"), and burn the Earth to a cinder. This was first attempted by a coven of satanists in 1932, but it was stopped when they all died as the temple was swallowed up in an earthquake. It was later attempted by Willow.\"\"\"]]"
   ]
  },
  {
   "cell_type": "code",
   "execution_count": 56,
   "metadata": {
    "collapsed": false,
    "scrolled": false
   },
   "outputs": [
    {
     "name": "stdout",
     "output_type": "stream",
     "text": [
      "Spell: Hand of Corsheth \n",
      "Name: Janus' Mask \n",
      "Name: Eligor's Respite \n",
      "Spell: Diana's Curse \n",
      "Spell: Wasting Death \n",
      "Name: Revoke Invitation \n",
      "Name: Ritual of Restoration \n",
      "Name: Flame of Life \n",
      "Name: Lightning of Myhnegon \n",
      "Name: Summon Wish Demon \n",
      "Name: True Form \n",
      "Name: Clouding \n",
      "Name: Zombie Creation \n",
      "Name: Hebron's Binding \n",
      "Name: Eryishon's Spell of Recall \n",
      "Name: Dissolution \n",
      "Name: Soul Reversion \n",
      "Name: Summon Fear Demon \n",
      "Name: Light of Guidance \n",
      "Name: Instant Cool \n",
      "Spell: Lover's Vengeance \n",
      "Name: Force of Will \n",
      "Name: Truth Spell \n",
      "Name: Summon D'Hoffryn \n",
      "Name: Light \n",
      "Name: Ghost Warrior Summoning \n",
      "Spell: Ionization \n",
      "Name: Ritual of Joining \n",
      "Spell: Adamanteus Aer (Steel Air) \n",
      "Name: Fist of Air \n",
      "Name: Protective Wall \n",
      "Name: Repair \n",
      "Name: ?? \n",
      "Name: Resurrectin of Osiris \n",
      "Name: Bolt of Light \n",
      "Name: Tabula Rasa Level 1 \n",
      "Name: Tabula Rasa Level 2 \n",
      "Name: Lagomorpic Summoning \n",
      "Name: Wind Flight \n",
      "Name: Drain Power \n",
      "Name: .... \n",
      "Name: Blessing of Shamash \n",
      "Name: Strength of Magic \n",
      "Name: Flounder Opponent \n",
      "Name: Binding Field \n",
      "Name: Blocking Spell \n",
      "Name: Hammer of Govannon \n",
      "Name: Seeking Flame \n",
      "Name: Striking Breath \n",
      "Name: Summon Earth Elementals \n",
      "Name: Proserpex's Effigy \n"
     ]
    }
   ],
   "source": [
    "spells = []\n",
    "descriptions = []\n",
    "\n",
    "description = ''\n",
    "spell = ''\n",
    "\n",
    "count = 0\n",
    "\n",
    "for item in info:\n",
    "    count += 1\n",
    "    \n",
    "    if 'Name:' in item[0] or 'Spell:' in item[0]:\n",
    "        description += item[0]\n",
    "        if count != 1 and spell != None:\n",
    "            descriptions.append(item[0])\n",
    "    \n",
    "    if '         ' in item[0]:\n",
    "        description += item[0]\n",
    "        \n",
    "    if 'Verbal:' in item[0]:\n",
    "        spell = item[0]\n",
    "        print(item[0])\n",
    "        spells.append(item[0])"
   ]
  },
  {
   "cell_type": "code",
   "execution_count": 39,
   "metadata": {
    "collapsed": false
   },
   "outputs": [
    {
     "name": "stdout",
     "output_type": "stream",
     "text": [
      "i:  ['Name: Harvest\\xa0']\n",
      "found name in  1\n",
      "i:  ['Used By: The Master\\xa0']\n",
      "no name\n"
     ]
    }
   ],
   "source": [
    "test =[[\"\"\"Name: Harvest \"\"\"], [\"\"\"Used By: The Master \"\"\"]]\n",
    "count = 0\n",
    "for i in test:\n",
    "    print('i: ', i)\n",
    "    count += 1\n",
    "    if 'Name:' in i[0]:\n",
    "        print('found name in ', count)\n",
    "    else:\n",
    "        print('no name')"
   ]
  },
  {
   "cell_type": "code",
   "execution_count": 37,
   "metadata": {
    "collapsed": false
   },
   "outputs": [
    {
     "data": {
      "text/plain": [
       "True"
      ]
     },
     "execution_count": 37,
     "metadata": {},
     "output_type": "execute_result"
    }
   ],
   "source": [
    "test = ['Name: Lamar']\n",
    "'Name:' in test[0]"
   ]
  },
  {
   "cell_type": "code",
   "execution_count": 54,
   "metadata": {
    "collapsed": false
   },
   "outputs": [
    {
     "data": {
      "text/plain": [
       "51"
      ]
     },
     "execution_count": 54,
     "metadata": {},
     "output_type": "execute_result"
    }
   ],
   "source": [
    "len(descriptions)"
   ]
  },
  {
   "cell_type": "code",
   "execution_count": 55,
   "metadata": {
    "collapsed": false
   },
   "outputs": [
    {
     "data": {
      "text/plain": [
       "42"
      ]
     },
     "execution_count": 55,
     "metadata": {},
     "output_type": "execute_result"
    }
   ],
   "source": [
    "len(spells)"
   ]
  },
  {
   "cell_type": "code",
   "execution_count": null,
   "metadata": {
    "collapsed": true
   },
   "outputs": [],
   "source": []
  }
 ],
 "metadata": {
  "kernelspec": {
   "display_name": "Python 3",
   "language": "python",
   "name": "python3"
  },
  "language_info": {
   "codemirror_mode": {
    "name": "ipython",
    "version": 3
   },
   "file_extension": ".py",
   "mimetype": "text/x-python",
   "name": "python",
   "nbconvert_exporter": "python",
   "pygments_lexer": "ipython3",
   "version": "3.5.2"
  }
 },
 "nbformat": 4,
 "nbformat_minor": 0
}

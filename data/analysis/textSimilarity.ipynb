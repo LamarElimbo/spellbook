{
 "cells": [
  {
   "cell_type": "code",
   "execution_count": 38,
   "metadata": {
    "collapsed": false
   },
   "outputs": [],
   "source": [
    "import gensim\n",
    "import csv\n",
    "from nltk.tokenize import word_tokenize as tokenize\n",
    "import codecs \n",
    "from operator import itemgetter\n",
    "\n",
    "def readCSV():\n",
    "\n",
    "    spellSet = {}\n",
    "\n",
    "    m = codecs.open('../datasets/Spells.csv', \"r\",encoding='utf-8', errors='ignore')\n",
    "    reader = csv.DictReader(m)\n",
    "\n",
    "    for row in reader:\n",
    "        for column, value in row.items():\n",
    "            spellSet.setdefault(column, []).append(value)\n",
    "\n",
    "\n",
    "    return spellSet\n",
    "\n",
    "\n",
    "def collectDocs():\n",
    "    \n",
    "    spellSet = readCSV()\n",
    "    \n",
    "    spellIndex = spellSet['Index']\n",
    "    spellDescriptions = spellSet['Spell Description']\n",
    "    spellTitles = spellSet['Spell Title']\n",
    "    print('Number of documents: ', len(spellDescriptions))\n",
    "    \n",
    "    return spellIndex, spellTitles, spellDescriptions\n",
    "\n",
    "\n",
    "def tokenizeDocs():\n",
    "    \n",
    "    spellIndex, spellTitles, spellDescriptions = collectDocs()\n",
    "    \n",
    "    gen_docs = [[w.lower() for w in tokenize(text)] for text in spellDescriptions]\n",
    "    \n",
    "    return spellIndex, spellTitles, gen_docs\n",
    "\n",
    "\n",
    "def main():\n",
    "    spellIndex, spellTitles, docs = tokenizeDocs()\n",
    "    dictionary = gensim.corpora.Dictionary(docs)\n",
    "    corpus = [dictionary.doc2bow(docs) for docs in docs]\n",
    "    tf_idf = gensim.models.TfidfModel(corpus)\n",
    "    s = 0\n",
    "    \n",
    "    for i in corpus:\n",
    "        s += len(i)\n",
    "        \n",
    "    sims = gensim.similarities.Similarity('.', tf_idf[corpus], num_features=len(dictionary))\n",
    "    return spellIndex, spellTitles, dictionary, tf_idf, sims\n",
    "    \n",
    "    \n",
    "def search(searchInput):\n",
    "    spellIndex, spellTitles, dictionary, tf_idf, sims = main()\n",
    "    query_doc = [w.lower() for w in tokenize(searchInput)]\n",
    "    query_doc_bow = dictionary.doc2bow(query_doc)\n",
    "    query_doc_tf_idf = tf_idf[query_doc_bow]\n",
    "    \n",
    "    similar = sims[query_doc_tf_idf]\n",
    "    pairedSims = list(zip(spellIndex, spellTitles, similar))\n",
    "    \n",
    "    sortedSimilar = sorted(pairedSims, key=itemgetter(2))\n",
    "    mostSimilar = sortedSimilar[-5:]\n",
    "    print('Most similar: ', mostSimilar)\n",
    "        "
   ]
  },
  {
   "cell_type": "code",
   "execution_count": 42,
   "metadata": {
    "collapsed": false
   },
   "outputs": [
    {
     "name": "stdout",
     "output_type": "stream",
     "text": [
      "Number of documents:  412\n",
      "Most similar:  [('83', 'To Find Good Luck', 0.27667516), ('84', 'To Find the Place of Injury', 0.281533), ('81', 'To Find a Muse', 0.34490076), ('82', 'To Find a Person', 0.40759471), ('80', 'To Find a Lost Love', 0.5246799)]\n"
     ]
    }
   ],
   "source": [
    "text = 'find something lost'\n",
    "search(text)"
   ]
  },
  {
   "cell_type": "code",
   "execution_count": 28,
   "metadata": {
    "collapsed": false
   },
   "outputs": [
    {
     "name": "stdout",
     "output_type": "stream",
     "text": [
      "[(0, 'mom', 4), (1, 'dad', 12), (2, 'boy', 3), (3, 'girl', 53)]\n"
     ]
    }
   ],
   "source": [
    "testIndex = [0,1,2,3]\n",
    "testTitle = ['mom', 'dad', 'boy', 'girl']\n",
    "testScore = [4,12,3,53]\n",
    "\n",
    "testZipped = list(zip(testIndex, testTitle, testScore))\n",
    "print(testZipped)"
   ]
  },
  {
   "cell_type": "code",
   "execution_count": 33,
   "metadata": {
    "collapsed": false
   },
   "outputs": [
    {
     "name": "stdout",
     "output_type": "stream",
     "text": [
      "[(2, 'boy', 3), (0, 'mom', 4), (1, 'dad', 12), (3, 'girl', 53)]\n"
     ]
    }
   ],
   "source": [
    "print(sorted(testZipped, key=itemgetter(2)))"
   ]
  },
  {
   "cell_type": "code",
   "execution_count": null,
   "metadata": {
    "collapsed": true
   },
   "outputs": [],
   "source": []
  }
 ],
 "metadata": {
  "kernelspec": {
   "display_name": "Python 3",
   "language": "python",
   "name": "python3"
  },
  "language_info": {
   "codemirror_mode": {
    "name": "ipython",
    "version": 3
   },
   "file_extension": ".py",
   "mimetype": "text/x-python",
   "name": "python",
   "nbconvert_exporter": "python",
   "pygments_lexer": "ipython3",
   "version": "3.5.2"
  }
 },
 "nbformat": 4,
 "nbformat_minor": 0
}
